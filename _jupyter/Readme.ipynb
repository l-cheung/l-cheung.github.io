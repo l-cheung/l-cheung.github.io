{
 "cells": [
  {
   "cell_type": "markdown",
   "metadata": {},
   "source": [
    "# Blogging with Jekyll\n",
    "---\n",
    "\n",
    "# Index\n",
    "* [Getting Started](#Getting-Started)\n",
    "* [Jekyll Themes](#Jekyll-Themes)"
   ]
  },
  {
   "cell_type": "markdown",
   "metadata": {},
   "source": [
    "# Getting Started\n",
    "---\n",
    "[Back to Top](#Index)\n",
    "\n",
    "**Basic Workflow**\n",
    "* Install Jekyll to create websites from text documents like `markdown`: [Jekyll Installation](https://jekyllrb.com/docs/installation/ubuntu/)\n",
    "* Create a site directory and edit files\n",
    "* `cd` to the site directory\n",
    "* Use `bundle exec jekyll serve` to build the site locally from the site directory, and serve it on `localhost`: [Quickstart](https://jekyllrb.com/docs/)\n",
    "\n",
    "# Jekyll Themes\n",
    "---\n",
    "[Back to Top](#Index)\n",
    "\n",
    "Choosing a theme that already has all the requirements you need is faster than modifying a theme to fit your needs.\n",
    "* [Free Themes](https://jekyllthemes.io/free)\n",
    "* [Mediumish Blog Theme](https://jekyllthemes.io/theme/mediumish)\n",
    "* [Mundana Blog Theme](https://jekyllthemes.io/theme/mundana)\n",
    "* [Wow Themes on GitHub](https://github.com/wowthemesnet)"
   ]
  },
  {
   "cell_type": "markdown",
   "metadata": {},
   "source": [
    "# Mediumish\n",
    "---\n",
    "* [Docs](https://bootstrapstarter.com/bootstrap-templates/template-mediumish-bootstrap-jekyll/)\n",
    "\n",
    "**Post YAML Header Options**\n",
    "```\n",
    "YAML front matter options:\n",
    "\n",
    "featured post - featured:true\n",
    "exclude featured post from “All stories” loop to avoid duplicated posts - hidden:true\n",
    "post image - image: assets/images/mypic.jpg\n",
    "external post image - image: \"https://externalwebsite.com/image4.jpg\"\n",
    "page comments - comments:true\n",
    "meta description (optional) - description: \"this is my meta description\"\n",
    "```"
   ]
  },
  {
   "cell_type": "code",
   "execution_count": 13,
   "metadata": {},
   "outputs": [],
   "source": [
    "import os\n",
    "image_deletion_logs = '''\n",
    " delete mode 100644 assets/blog_images/hiking/at_2017_2019/georgia/IMG_3430.JPG\n",
    " delete mode 100644 assets/blog_images/hiking/at_2017_2019/georgia/IMG_4958.JPG\n",
    " delete mode 100644 assets/blog_images/hiking/at_2017_2019/georgia/IMG_4960.JPG\n",
    " delete mode 100644 assets/blog_images/hiking/at_2017_2019/georgia/IMG_4977.JPG\n",
    " delete mode 100644 assets/blog_images/hiking/at_2017_2019/georgia/IMG_4978.JPG\n",
    " delete mode 100644 assets/blog_images/hiking/at_2017_2019/georgia/IMG_4980.JPG\n",
    " delete mode 100644 assets/blog_images/hiking/at_2017_2019/georgia/IMG_4981.JPG\n",
    " delete mode 100644 assets/blog_images/hiking/at_2017_2019/georgia/IMG_4982.JPG\n",
    " delete mode 100644 assets/blog_images/hiking/at_2017_2019/georgia/IMG_4986.JPG\n",
    " delete mode 100644 assets/blog_images/hiking/at_2017_2019/georgia/IMG_4987.JPG\n",
    " delete mode 100644 assets/blog_images/hiking/at_2017_2019/georgia/IMG_4988.JPG\n",
    " delete mode 100644 assets/blog_images/hiking/at_2017_2019/georgia/IMG_4990.JPG\n",
    " delete mode 100644 assets/blog_images/hiking/at_2017_2019/georgia/IMG_4991.JPG\n",
    " delete mode 100644 assets/blog_images/hiking/at_2017_2019/georgia/IMG_4992.JPG\n",
    " delete mode 100644 assets/blog_images/hiking/at_2017_2019/georgia/IMG_4995.JPG\n",
    " delete mode 100644 assets/blog_images/hiking/at_2017_2019/georgia/IMG_4997.JPG\n",
    " delete mode 100644 assets/blog_images/hiking/at_2017_2019/georgia/IMG_4998.JPG\n",
    " delete mode 100644 assets/blog_images/hiking/at_2017_2019/georgia/IMG_5001.JPG\n",
    " delete mode 100644 assets/blog_images/hiking/at_2017_2019/georgia/IMG_5002.JPG\n",
    " delete mode 100644 assets/blog_images/hiking/at_2017_2019/georgia/IMG_5003.JPG\n",
    " delete mode 100644 assets/blog_images/hiking/at_2017_2019/georgia/IMG_5004.JPG\n",
    " delete mode 100644 assets/blog_images/hiking/at_2017_2019/georgia/IMG_5005.JPG\n",
    " delete mode 100644 assets/blog_images/hiking/at_2017_2019/georgia/IMG_5006.JPG\n",
    " delete mode 100644 assets/blog_images/hiking/at_2017_2019/georgia/IMG_5009.JPG\n",
    " delete mode 100644 assets/blog_images/hiking/at_2017_2019/georgia/IMG_5010.JPG\n",
    " delete mode 100644 assets/blog_images/hiking/at_2017_2019/georgia/IMG_5011.JPG\n",
    " delete mode 100644 assets/blog_images/hiking/at_2017_2019/georgia/IMG_5012.JPG\n",
    " delete mode 100644 assets/blog_images/hiking/at_2017_2019/georgia/IMG_5017.JPG\n",
    " delete mode 100644 assets/blog_images/hiking/at_2017_2019/georgia/IMG_5019.JPG\n",
    " delete mode 100644 assets/blog_images/hiking/at_2017_2019/georgia/IMG_5021.JPG\n",
    " delete mode 100644 assets/blog_images/hiking/at_2017_2019/georgia/IMG_5025.JPG\n",
    " delete mode 100644 assets/blog_images/hiking/at_2017_2019/georgia/IMG_5027.JPG\n",
    " delete mode 100644 assets/blog_images/hiking/at_2017_2019/georgia/IMG_5029.JPG\n",
    " delete mode 100644 assets/blog_images/hiking/at_2017_2019/georgia/IMG_5030.JPG\n",
    " delete mode 100644 assets/blog_images/hiking/at_2017_2019/georgia/IMG_5031.JPG\n",
    " delete mode 100644 assets/blog_images/hiking/at_2017_2019/georgia/IMG_5032.JPG\n",
    " delete mode 100644 assets/blog_images/hiking/at_2017_2019/georgia/IMG_5033.JPG\n",
    " delete mode 100644 assets/blog_images/hiking/at_2017_2019/georgia/IMG_5034.JPG\n",
    " delete mode 100644 assets/blog_images/hiking/at_2017_2019/georgia/IMG_5037.JPG\n",
    " delete mode 100644 assets/blog_images/hiking/at_2017_2019/georgia/IMG_5040.JPG\n",
    " delete mode 100644 assets/blog_images/hiking/at_2017_2019/georgia/IMG_5042.JPG\n",
    " delete mode 100644 assets/blog_images/hiking/at_2017_2019/georgia/IMG_5043.JPG\n",
    " delete mode 100644 assets/blog_images/hiking/at_2017_2019/georgia/IMG_5046.JPG\n",
    " delete mode 100644 assets/blog_images/hiking/at_2017_2019/georgia/IMG_5047.JPG\n",
    " delete mode 100644 assets/blog_images/hiking/at_2017_2019/georgia/IMG_5049.JPG\n",
    " delete mode 100644 assets/blog_images/hiking/at_2017_2019/georgia/IMG_5050.JPG\n",
    " delete mode 100644 assets/blog_images/hiking/at_2017_2019/georgia/IMG_5051.JPG\n",
    " delete mode 100644 assets/blog_images/hiking/at_2017_2019/georgia/IMG_5053.JPG\n",
    " delete mode 100644 assets/blog_images/hiking/at_2017_2019/georgia/IMG_5059.JPG\n",
    " delete mode 100644 assets/blog_images/hiking/at_2017_2019/georgia/IMG_5060.JPG\n",
    " delete mode 100644 assets/blog_images/hiking/at_2017_2019/georgia/IMG_5061.JPG\n",
    " delete mode 100644 assets/blog_images/hiking/at_2017_2019/georgia/IMG_5062.JPG\n",
    " delete mode 100644 assets/blog_images/hiking/at_2017_2019/georgia/IMG_5068.JPG\n",
    " delete mode 100644 assets/blog_images/hiking/at_2017_2019/georgia/IMG_5071.JPG\n",
    " delete mode 100644 assets/blog_images/hiking/at_2017_2019/georgia/IMG_5072.JPG\n",
    " delete mode 100644 assets/blog_images/hiking/at_2017_2019/georgia/IMG_5078.JPG\n",
    " delete mode 100644 assets/blog_images/hiking/at_2017_2019/georgia/IMG_5081.JPEG\n",
    " delete mode 100644 assets/blog_images/hiking/at_2017_2019/georgia/IMG_5083.JPG\n",
    " delete mode 100644 assets/blog_images/hiking/at_2017_2019/georgia/IMG_5085.JPG\n",
    " delete mode 100644 assets/blog_images/hiking/at_2017_2019/georgia/IMG_5089.JPG\n",
    " delete mode 100644 assets/blog_images/hiking/at_2017_2019/georgia/IMG_5091.JPG\n",
    " delete mode 100644 assets/blog_images/hiking/at_2017_2019/georgia/IMG_5093.JPG\n",
    " delete mode 100644 assets/blog_images/hiking/at_2017_2019/georgia/IMG_5094.JPG\n",
    " delete mode 100644 assets/blog_images/hiking/at_2017_2019/georgia/IMG_5095.JPG\n",
    " delete mode 100644 assets/blog_images/hiking/at_2017_2019/georgia/IMG_5097.JPG\n",
    " delete mode 100644 assets/blog_images/hiking/at_2017_2019/georgia/IMG_5098.JPG\n",
    " delete mode 100644 assets/blog_images/hiking/at_2017_2019/georgia/IMG_5099.JPG\n",
    " delete mode 100644 assets/blog_images/hiking/at_2017_2019/georgia/IMG_5100.JPG\n",
    " delete mode 100644 assets/blog_images/hiking/at_2017_2019/georgia/IMG_5101.JPG\n",
    " delete mode 100644 assets/blog_images/hiking/at_2017_2019/georgia/IMG_5103.JPG\n",
    " delete mode 100644 assets/blog_images/hiking/at_2017_2019/georgia/IMG_5104.JPG\n",
    " delete mode 100644 assets/blog_images/hiking/at_2017_2019/georgia/IMG_5105.JPG\n",
    " delete mode 100644 assets/blog_images/hiking/at_2017_2019/georgia/IMG_5109.JPG\n",
    " delete mode 100644 assets/blog_images/hiking/at_2017_2019/georgia/IMG_5110.JPG\n",
    " delete mode 100644 assets/blog_images/hiking/at_2017_2019/georgia/IMG_5111.JPG\n",
    " delete mode 100644 assets/blog_images/hiking/at_2017_2019/georgia/IMG_5112.JPG\n",
    " delete mode 100644 assets/blog_images/hiking/at_2017_2019/georgia/IMG_5114.JPG\n",
    " delete mode 100644 assets/blog_images/hiking/at_2017_2019/georgia/IMG_5115.JPG\n",
    " delete mode 100644 assets/blog_images/hiking/at_2017_2019/georgia/IMG_5118.JPG\n",
    " delete mode 100644 assets/blog_images/hiking/at_2017_2019/georgia/IMG_5120.JPG\n",
    " delete mode 100644 assets/blog_images/hiking/at_2017_2019/georgia/IMG_5121.JPG\n",
    " delete mode 100644 assets/blog_images/hiking/at_2017_2019/georgia/IMG_5122.JPEG\n",
    " delete mode 100644 assets/blog_images/hiking/at_2017_2019/georgia/IMG_5123.JPG\n",
    " delete mode 100644 assets/blog_images/hiking/at_2017_2019/georgia/IMG_5124.JPG\n",
    " delete mode 100644 assets/blog_images/hiking/at_2017_2019/georgia/IMG_5125.JPG\n",
    " delete mode 100644 assets/blog_images/hiking/at_2017_2019/georgia/IMG_5126.JPG\n",
    " delete mode 100644 assets/blog_images/hiking/at_2017_2019/georgia/IMG_5127.JPG\n",
    " delete mode 100644 assets/blog_images/hiking/at_2017_2019/georgia/IMG_5128.JPG\n",
    " delete mode 100644 assets/blog_images/hiking/at_2017_2019/georgia/IMG_5129.JPG\n",
    " delete mode 100644 assets/blog_images/hiking/at_2017_2019/georgia/IMG_5130.JPG\n",
    " delete mode 100644 assets/blog_images/hiking/at_2017_2019/georgia/IMG_5131.JPG\n",
    " delete mode 100644 assets/blog_images/hiking/at_2017_2019/georgia/IMG_5132.JPG\n",
    " delete mode 100644 assets/blog_images/hiking/at_2017_2019/georgia/IMG_5133.JPG\n",
    " delete mode 100644 assets/blog_images/hiking/at_2017_2019/georgia/IMG_5138.JPG\n",
    " delete mode 100644 assets/blog_images/hiking/at_2017_2019/georgia/IMG_5139.JPG\n",
    "'''"
   ]
  },
  {
   "cell_type": "code",
   "execution_count": 11,
   "metadata": {},
   "outputs": [],
   "source": [
    "image_deletion_list = image_deletion_logs.split('\\n')\n",
    "image_deletion_list = [logline.replace(' delete mode 100644 ', '') \n",
    "                       for logline in image_deletion_list if logline != '']"
   ]
  },
  {
   "cell_type": "code",
   "execution_count": 12,
   "metadata": {},
   "outputs": [
    {
     "data": {
      "text/plain": [
       "['assets/blog_images/hiking/at_2017_2019/georgia/IMG_3430.JPG',\n",
       " 'assets/blog_images/hiking/at_2017_2019/georgia/IMG_4958.JPG',\n",
       " 'assets/blog_images/hiking/at_2017_2019/georgia/IMG_4960.JPG',\n",
       " 'assets/blog_images/hiking/at_2017_2019/georgia/IMG_4977.JPG',\n",
       " 'assets/blog_images/hiking/at_2017_2019/georgia/IMG_4978.JPG']"
      ]
     },
     "execution_count": 12,
     "metadata": {},
     "output_type": "execute_result"
    }
   ],
   "source": [
    "image_deletion_list[0:5]"
   ]
  },
  {
   "cell_type": "code",
   "execution_count": 21,
   "metadata": {},
   "outputs": [],
   "source": [
    "remove_cached_commands = ['''git filter-branch --force --index-filter \\\n",
    "  'git rm --cached --ignore-unmatch {}' \\\n",
    "  --prune-empty --tag-name-filter cat -- --all'''\n",
    "  .format(image_path) for image_path in image_deletion_list]"
   ]
  },
  {
   "cell_type": "code",
   "execution_count": 23,
   "metadata": {},
   "outputs": [
    {
     "data": {
      "text/plain": [
       "256"
      ]
     },
     "execution_count": 23,
     "metadata": {},
     "output_type": "execute_result"
    }
   ],
   "source": [
    "os.system(remove_cached_commands[0])"
   ]
  },
  {
   "cell_type": "code",
   "execution_count": 26,
   "metadata": {},
   "outputs": [
    {
     "data": {
      "text/plain": [
       "''"
      ]
     },
     "execution_count": 26,
     "metadata": {},
     "output_type": "execute_result"
    }
   ],
   "source": [
    "stream = os.popen(remove_cached_commands[0])\n",
    "output = stream.read()\n",
    "output"
   ]
  },
  {
   "cell_type": "code",
   "execution_count": 27,
   "metadata": {},
   "outputs": [
    {
     "data": {
      "text/plain": [
       "\"git filter-branch --force --index-filter   'git rm --cached --ignore-unmatch assets/blog_images/hiking/at_2017_2019/georgia/IMG_3430.JPG'   --prune-empty --tag-name-filter cat -- --all\""
      ]
     },
     "execution_count": 27,
     "metadata": {},
     "output_type": "execute_result"
    }
   ],
   "source": [
    "remove_cached_commands[0]"
   ]
  },
  {
   "cell_type": "code",
   "execution_count": null,
   "metadata": {},
   "outputs": [],
   "source": []
  }
 ],
 "metadata": {
  "kernelspec": {
   "display_name": "Python 3",
   "language": "python",
   "name": "python3"
  },
  "language_info": {
   "codemirror_mode": {
    "name": "ipython",
    "version": 3
   },
   "file_extension": ".py",
   "mimetype": "text/x-python",
   "name": "python",
   "nbconvert_exporter": "python",
   "pygments_lexer": "ipython3",
   "version": "3.7.3"
  }
 },
 "nbformat": 4,
 "nbformat_minor": 4
}
