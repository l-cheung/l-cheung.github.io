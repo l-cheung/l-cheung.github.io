{
 "cells": [
  {
   "cell_type": "markdown",
   "metadata": {},
   "source": [
    "# Blogging with Jekyll\n",
    "---\n",
    "\n",
    "# Index\n",
    "* [Getting Started](#Getting-Started)\n",
    "* [Jekyll Themes](#Jekyll-Themes)"
   ]
  },
  {
   "cell_type": "markdown",
   "metadata": {},
   "source": [
    "# Getting Started\n",
    "---\n",
    "[Back to Top](#Index)\n",
    "\n",
    "**Basic Workflow**\n",
    "* Install Jekyll to create websites from text documents like `markdown`: [Jekyll Installation](https://jekyllrb.com/docs/installation/ubuntu/)\n",
    "* Create a site directory and edit files\n",
    "* `cd` to the site directory\n",
    "* Use `bundle exec jekyll serve` to build the site locally from the site directory, and serve it on `localhost`: [Quickstart](https://jekyllrb.com/docs/)\n",
    "\n",
    "# Jekyll Themes\n",
    "---\n",
    "[Back to Top](#Index)\n",
    "\n",
    "Choosing a theme that already has all the requirements you need is faster than modifying a theme to fit your needs.\n",
    "* [Free Themes](https://jekyllthemes.io/free)\n",
    "* [Mediumish Blog Theme](https://jekyllthemes.io/theme/mediumish)\n",
    "* [Mundana Blog Theme](https://jekyllthemes.io/theme/mundana)\n",
    "* [Wow Themes on GitHub](https://github.com/wowthemesnet)"
   ]
  },
  {
   "cell_type": "markdown",
   "metadata": {},
   "source": [
    "# Mediumish\n",
    "---\n",
    "* [Docs](https://bootstrapstarter.com/bootstrap-templates/template-mediumish-bootstrap-jekyll/)\n",
    "\n",
    "**Post YAML Header Options**\n",
    "```\n",
    "YAML front matter options:\n",
    "\n",
    "featured post - featured:true\n",
    "exclude featured post from “All stories” loop to avoid duplicated posts - hidden:true\n",
    "post image - image: assets/images/mypic.jpg\n",
    "external post image - image: \"https://externalwebsite.com/image4.jpg\"\n",
    "page comments - comments:true\n",
    "meta description (optional) - description: \"this is my meta description\"\n",
    "```"
   ]
  },
  {
   "cell_type": "markdown",
   "metadata": {},
   "source": []
  }
 ],
 "metadata": {
  "kernelspec": {
   "display_name": "Python 3",
   "language": "python",
   "name": "python3"
  },
  "language_info": {
   "codemirror_mode": {
    "name": "ipython",
    "version": 3
   },
   "file_extension": ".py",
   "mimetype": "text/x-python",
   "name": "python",
   "nbconvert_exporter": "python",
   "pygments_lexer": "ipython3",
   "version": "3.7.3"
  }
 },
 "nbformat": 4,
 "nbformat_minor": 4
}
